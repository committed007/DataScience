{
 "cells": [
  {
   "cell_type": "code",
   "execution_count": 6,
   "metadata": {
    "collapsed": true
   },
   "outputs": [],
   "source": [
    "from sklearn import datasets\n",
    "import pandas as pd\n",
    "from sklearn.preprocessing import StandardScaler\n",
    "from sklearn.cross_validation import train_test_split\n",
    "from sklearn.metrics import mean_squared_error\n",
    "from sklearn.metrics import r2_score\n",
    "from sklearn.linear_model import LinearRegression"
   ]
  },
  {
   "cell_type": "code",
   "execution_count": 7,
   "metadata": {
    "collapsed": false
   },
   "outputs": [
    {
     "name": "stdout",
     "output_type": "stream",
     "text": [
      "Boston House Prices dataset\n",
      "\n",
      "Notes\n",
      "------\n",
      "Data Set Characteristics:  \n",
      "\n",
      "    :Number of Instances: 506 \n",
      "\n",
      "    :Number of Attributes: 13 numeric/categorical predictive\n",
      "    \n",
      "    :Median Value (attribute 14) is usually the target\n",
      "\n",
      "    :Attribute Information (in order):\n",
      "        - CRIM     per capita crime rate by town\n",
      "        - ZN       proportion of residential land zoned for lots over 25,000 sq.ft.\n",
      "        - INDUS    proportion of non-retail business acres per town\n",
      "        - CHAS     Charles River dummy variable (= 1 if tract bounds river; 0 otherwise)\n",
      "        - NOX      nitric oxides concentration (parts per 10 million)\n",
      "        - RM       average number of rooms per dwelling\n",
      "        - AGE      proportion of owner-occupied units built prior to 1940\n",
      "        - DIS      weighted distances to five Boston employment centres\n",
      "        - RAD      index of accessibility to radial highways\n",
      "        - TAX      full-value property-tax rate per $10,000\n",
      "        - PTRATIO  pupil-teacher ratio by town\n",
      "        - B        1000(Bk - 0.63)^2 where Bk is the proportion of blacks by town\n",
      "        - LSTAT    % lower status of the population\n",
      "        - MEDV     Median value of owner-occupied homes in $1000's\n",
      "\n",
      "    :Missing Attribute Values: None\n",
      "\n",
      "    :Creator: Harrison, D. and Rubinfeld, D.L.\n",
      "\n",
      "This is a copy of UCI ML housing dataset.\n",
      "http://archive.ics.uci.edu/ml/datasets/Housing\n",
      "\n",
      "\n",
      "This dataset was taken from the StatLib library which is maintained at Carnegie Mellon University.\n",
      "\n",
      "The Boston house-price data of Harrison, D. and Rubinfeld, D.L. 'Hedonic\n",
      "prices and the demand for clean air', J. Environ. Economics & Management,\n",
      "vol.5, 81-102, 1978.   Used in Belsley, Kuh & Welsch, 'Regression diagnostics\n",
      "...', Wiley, 1980.   N.B. Various transformations are used in the table on\n",
      "pages 244-261 of the latter.\n",
      "\n",
      "The Boston house-price data has been used in many machine learning papers that address regression\n",
      "problems.   \n",
      "     \n",
      "**References**\n",
      "\n",
      "   - Belsley, Kuh & Welsch, 'Regression diagnostics: Identifying Influential Data and Sources of Collinearity', Wiley, 1980. 244-261.\n",
      "   - Quinlan,R. (1993). Combining Instance-Based and Model-Based Learning. In Proceedings on the Tenth International Conference of Machine Learning, 236-243, University of Massachusetts, Amherst. Morgan Kaufmann.\n",
      "   - many more! (see http://archive.ics.uci.edu/ml/datasets/Housing)\n",
      "\n"
     ]
    }
   ],
   "source": [
    "bean = datasets.load_boston()\n",
    "print bean.DESCR"
   ]
  },
  {
   "cell_type": "code",
   "execution_count": 9,
   "metadata": {
    "collapsed": false
   },
   "outputs": [],
   "source": [
    "def load_boston():\n",
    "    scaler = StandardScaler()\n",
    "    boston = datasets.load_boston()\n",
    "    X=boston.data\n",
    "    y=boston.target\n",
    "    X = scaler.fit_transform(X)\n",
    "    return train_test_split(X,y)"
   ]
  },
  {
   "cell_type": "code",
   "execution_count": 10,
   "metadata": {
    "collapsed": true
   },
   "outputs": [],
   "source": [
    "X_train, X_test, y_train, y_test = load_boston()"
   ]
  },
  {
   "cell_type": "code",
   "execution_count": 11,
   "metadata": {
    "collapsed": false
   },
   "outputs": [
    {
     "data": {
      "text/plain": [
       "(379, 13)"
      ]
     },
     "execution_count": 11,
     "metadata": {},
     "output_type": "execute_result"
    }
   ],
   "source": [
    "X_train.shape"
   ]
  },
  {
   "cell_type": "code",
   "execution_count": 12,
   "metadata": {
    "collapsed": false
   },
   "outputs": [
    {
     "data": {
      "text/plain": [
       "LinearRegression(copy_X=True, fit_intercept=True, n_jobs=1, normalize=False)"
      ]
     },
     "execution_count": 12,
     "metadata": {},
     "output_type": "execute_result"
    }
   ],
   "source": [
    "clf = LinearRegression()\n",
    "clf.fit(X_train, y_train)"
   ]
  },
  {
   "cell_type": "code",
   "execution_count": 13,
   "metadata": {
    "collapsed": false
   },
   "outputs": [
    {
     "data": {
      "text/plain": [
       "[(21.699999999999999, 24.790339480423931),\n",
       " (44.799999999999997, 38.899500229859584),\n",
       " (14.5, 13.527023364757696),\n",
       " (16.100000000000001, 22.140190244319349),\n",
       " (21.899999999999999, 37.824357458288986),\n",
       " (24.800000000000001, 26.716436252985748),\n",
       " (23.0, 23.960342227341361),\n",
       " (20.600000000000001, 21.593212036130108),\n",
       " (22.0, 21.063143500897326),\n",
       " (11.300000000000001, 13.139714330158036),\n",
       " (21.199999999999999, 21.293245102553318),\n",
       " (11.9, 8.4076206045779216),\n",
       " (23.300000000000001, 22.08999404876694),\n",
       " (33.399999999999999, 35.694904631561954),\n",
       " (13.800000000000001, 16.659834965632562),\n",
       " (23.199999999999999, 27.181498817467443),\n",
       " (24.100000000000001, 20.811233831976992),\n",
       " (22.600000000000001, 22.476894670837552),\n",
       " (24.699999999999999, 24.572602444546863),\n",
       " (37.899999999999999, 34.51941792917718),\n",
       " (43.100000000000001, 37.413857519207241),\n",
       " (21.0, 23.11239093593759),\n",
       " (18.199999999999999, 14.283525948705122),\n",
       " (16.600000000000001, 17.86858601552505),\n",
       " (29.0, 31.713148685450026),\n",
       " (26.399999999999999, 22.676404503144166),\n",
       " (22.0, 22.513708308157305),\n",
       " (10.5, 12.980908405690489),\n",
       " (24.100000000000001, 29.000857121599164),\n",
       " (10.9, 15.795841227608566),\n",
       " (34.600000000000001, 34.50479805721006),\n",
       " (30.5, 30.3023777101787),\n",
       " (17.399999999999999, 23.080931654211636),\n",
       " (15.1, 17.423075769833549),\n",
       " (22.899999999999999, 23.125445449820493),\n",
       " (15.6, 20.215925970656407),\n",
       " (30.699999999999999, 30.787656805309982),\n",
       " (50.0, 26.526749334067972),\n",
       " (32.899999999999999, 30.237628066304172),\n",
       " (20.399999999999999, 23.186681372963911),\n",
       " (24.800000000000001, 26.065836005704373),\n",
       " (18.199999999999999, 19.726249789339683),\n",
       " (17.800000000000001, 22.687955700086729),\n",
       " (22.0, 27.152562013255874),\n",
       " (20.300000000000001, 22.547653625276418),\n",
       " (50.0, 44.169578292085788),\n",
       " (14.199999999999999, 18.47143024095341),\n",
       " (19.699999999999999, 13.185373017246643),\n",
       " (8.0999999999999996, 2.6368527882730746),\n",
       " (34.899999999999999, 29.701261759635912),\n",
       " (19.199999999999999, 23.875674205609378),\n",
       " (22.800000000000001, 28.104639579573139),\n",
       " (25.0, 23.538288891036402),\n",
       " (20.600000000000001, 19.395104048048903),\n",
       " (17.100000000000001, 19.589616157895932),\n",
       " (23.899999999999999, 27.382015967190661),\n",
       " (36.200000000000003, 28.368797653096248),\n",
       " (23.699999999999999, 9.0848664330277522),\n",
       " (21.100000000000001, 22.011261095656852),\n",
       " (19.600000000000001, 19.999553113807877),\n",
       " (23.899999999999999, 28.375419473382795),\n",
       " (10.800000000000001, 11.436946696274331),\n",
       " (29.800000000000001, 25.807644745345581),\n",
       " (13.1, 14.106927007886819),\n",
       " (14.4, 2.6217781061993293),\n",
       " (23.100000000000001, 25.251181769180157),\n",
       " (29.100000000000001, 31.509558092054149),\n",
       " (16.100000000000001, 18.628139088721589),\n",
       " (18.199999999999999, 18.551014058095397),\n",
       " (28.5, 33.49025721706721),\n",
       " (13.4, 13.287320066322156),\n",
       " (18.5, 25.290055580047824),\n",
       " (19.600000000000001, 21.314756193192423),\n",
       " (20.300000000000001, 23.23141490844241),\n",
       " (17.5, 16.90248540012097),\n",
       " (15.199999999999999, 11.743850184911757),\n",
       " (20.100000000000001, 18.898325819122604),\n",
       " (33.799999999999997, 34.785073914618685),\n",
       " (21.699999999999999, 20.414870877632133),\n",
       " (19.300000000000001, 20.505180859814995),\n",
       " (20.600000000000001, 22.243290959652128),\n",
       " (19.600000000000001, 23.467358281094874),\n",
       " (17.199999999999999, 17.266455171526857),\n",
       " (19.800000000000001, 22.694406490250053),\n",
       " (35.399999999999999, 34.622041644102204),\n",
       " (20.399999999999999, 20.505024816915071),\n",
       " (20.800000000000001, 23.408756596819281),\n",
       " (17.5, 16.668382672732577),\n",
       " (22.0, 27.559975997300967),\n",
       " (30.300000000000001, 32.315297986934183),\n",
       " (13.800000000000001, 20.559665544070583),\n",
       " (12.300000000000001, 12.633663152318238),\n",
       " (43.5, 39.609713817329521),\n",
       " (13.6, 12.139774826106986),\n",
       " (13.4, 13.582645952660032),\n",
       " (17.199999999999999, 13.118789561520089),\n",
       " (16.199999999999999, 20.856992869847691),\n",
       " (24.5, 20.03724573075392),\n",
       " (24.399999999999999, 23.011372951712406),\n",
       " (14.6, 19.447391858977866),\n",
       " (16.300000000000001, 12.831604036878289),\n",
       " (10.4, 17.591281138531293),\n",
       " (24.300000000000001, 24.549392057609356),\n",
       " (8.3000000000000007, 13.660224552624136),\n",
       " (19.399999999999999, 23.576573868005049),\n",
       " (21.5, 24.567923112889265),\n",
       " (10.199999999999999, 5.8106037727901487),\n",
       " (28.399999999999999, 28.750366398458851),\n",
       " (13.4, 12.976428366065942),\n",
       " (22.600000000000001, 27.119981096434568),\n",
       " (32.0, 34.184743639317261),\n",
       " (50.0, 43.553321563473318),\n",
       " (16.800000000000001, 20.126291478571716),\n",
       " (50.0, 43.114544611585558),\n",
       " (31.600000000000001, 32.912491958917784),\n",
       " (11.0, 14.052814932367919),\n",
       " (20.399999999999999, 19.974788558888097),\n",
       " (22.899999999999999, 29.357057721660816),\n",
       " (22.600000000000001, 19.552612016378873),\n",
       " (14.5, 18.425840410078806),\n",
       " (22.699999999999999, 25.499934174750422),\n",
       " (18.0, 19.155965244560502),\n",
       " (16.5, 10.507141312349962),\n",
       " (33.100000000000001, 34.64685142939976),\n",
       " (15.0, 18.163305255669421),\n",
       " (28.600000000000001, 29.046342511449332),\n",
       " (23.800000000000001, 27.212317341546736)]"
      ]
     },
     "execution_count": 13,
     "metadata": {},
     "output_type": "execute_result"
    }
   ],
   "source": [
    "zip (y_test, clf.predict(X_test))"
   ]
  },
  {
   "cell_type": "code",
   "execution_count": 14,
   "metadata": {
    "collapsed": false
   },
   "outputs": [
    {
     "data": {
      "text/plain": [
       "0.72960821799798059"
      ]
     },
     "execution_count": 14,
     "metadata": {},
     "output_type": "execute_result"
    }
   ],
   "source": [
    "from sklearn.metrics import r2_score\n",
    "r2_score(y_test, clf.predict(X_test)) "
   ]
  },
  {
   "cell_type": "code",
   "execution_count": 15,
   "metadata": {
    "collapsed": false
   },
   "outputs": [
    {
     "data": {
      "text/plain": [
       "0.72960821799798059"
      ]
     },
     "execution_count": 15,
     "metadata": {},
     "output_type": "execute_result"
    }
   ],
   "source": [
    "r2_score(y_test, clf.predict(X_test), multioutput='variance_weighted')"
   ]
  },
  {
   "cell_type": "code",
   "execution_count": 16,
   "metadata": {
    "collapsed": false
   },
   "outputs": [
    {
     "data": {
      "text/plain": [
       "20.819566716069357"
      ]
     },
     "execution_count": 16,
     "metadata": {},
     "output_type": "execute_result"
    }
   ],
   "source": [
    "from sklearn.metrics import mean_squared_error\n",
    "mean_squared_error(y_test, clf.predict(X_test))"
   ]
  },
  {
   "cell_type": "code",
   "execution_count": 19,
   "metadata": {
    "collapsed": false
   },
   "outputs": [
    {
     "data": {
      "text/plain": [
       "array([ 20.81956672])"
      ]
     },
     "execution_count": 19,
     "metadata": {},
     "output_type": "execute_result"
    }
   ],
   "source": [
    "mean_squared_error(y_test, clf.predict(X_test), multioutput='raw_values')"
   ]
  },
  {
   "cell_type": "code",
   "execution_count": 21,
   "metadata": {
    "collapsed": false
   },
   "outputs": [
    {
     "name": "stdout",
     "output_type": "stream",
     "text": [
      "Lasso(alpha=0.1, copy_X=True, fit_intercept=True, max_iter=1000,\n",
      "   normalize=False, positive=False, precompute=False, random_state=None,\n",
      "   selection='cyclic', tol=0.0001, warm_start=False)\n",
      "r^2 on test data : 0.724121\n"
     ]
    }
   ],
   "source": [
    "from sklearn.linear_model import Lasso\n",
    "\n",
    "alpha = 0.1\n",
    "lasso = Lasso(alpha=alpha)\n",
    "\n",
    "y_pred_lasso = lasso.fit(X_train, y_train).predict(X_test)\n",
    "r2_score_lasso = r2_score(y_test, y_pred_lasso)\n",
    "print(lasso)\n",
    "print(\"r^2 on test data : %f\" % r2_score_lasso)"
   ]
  },
  {
   "cell_type": "code",
   "execution_count": null,
   "metadata": {
    "collapsed": true
   },
   "outputs": [],
   "source": []
  }
 ],
 "metadata": {
  "anaconda-cloud": {},
  "kernelspec": {
   "display_name": "Python [Root]",
   "language": "python",
   "name": "Python [Root]"
  },
  "language_info": {
   "codemirror_mode": {
    "name": "ipython",
    "version": 2
   },
   "file_extension": ".py",
   "mimetype": "text/x-python",
   "name": "python",
   "nbconvert_exporter": "python",
   "pygments_lexer": "ipython2",
   "version": "2.7.12"
  }
 },
 "nbformat": 4,
 "nbformat_minor": 0
}
