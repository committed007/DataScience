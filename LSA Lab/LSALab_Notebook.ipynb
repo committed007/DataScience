{
 "cells": [
  {
   "cell_type": "code",
   "execution_count": 1,
   "metadata": {
    "collapsed": true
   },
   "outputs": [],
   "source": [
    "from bs4 import BeautifulSoup\n",
    "import nltk\n",
    "from nltk.corpus import stopwords\n",
    "from sklearn.feature_extraction.text import TfidfVectorizer\n",
    "from sklearn.decomposition import TruncatedSVD\n",
    "from sklearn.datasets import fetch_20newsgroups\n",
    "categories = ['rec.sport.baseball']\n",
    "dataset = fetch_20newsgroups(subset='all',shuffle=True, random_state=42, categories=categories)\n",
    "corpus = dataset.data"
   ]
  },
  {
   "cell_type": "code",
   "execution_count": 2,
   "metadata": {
    "collapsed": false
   },
   "outputs": [
    {
     "data": {
      "text/plain": [
       "u\"From: writingctr@leo.bsuvc.bsu.edu\\nSubject: Re: CUB fever.\\nOrganization: Ball State University, Muncie, In - Univ. Computing Svc's\\nLines: 21\\n\\n\\nIn article <kingoz.735285670@camelot>, kingoz@camelot.bradley.edu (Orin Roth) writes:\\n> \\n>    CUB fever is hitting me again. I'm beginning to think they have a \\n>    chance this year. (what the heck am i thinking?)\\n>    Sorry. Just a moment of incompetence.\\n>    I'll be ok. Really. \\n>    Orin.\\n>    Bradley U.\\n> \\n> --\\n> I'm really a jester in disguise!                                   \\nI hear ya!  Then again, we must remember that we are indeed Cub fans, and\\nthat the Cubs will eventually blow it.  After all, the Cubs are the easiest\\nteam in the National League to root for.  No Pressure.  You know they will\\nlose eventually.  Oh well, I suppose we must have faith.  After all, they\\ndo look pretty good, and they don't even have Sandberg back yet.  \\n\\nCUBS IN '93!!!!!\\n\\nCHA\\n\""
      ]
     },
     "execution_count": 2,
     "metadata": {},
     "output_type": "execute_result"
    }
   ],
   "source": [
    "corpus[0]"
   ]
  },
  {
   "cell_type": "code",
   "execution_count": 4,
   "metadata": {
    "collapsed": false
   },
   "outputs": [
    {
     "name": "stdout",
     "output_type": "stream",
     "text": [
      "[nltk_data] Downloading package stopwords to\n",
      "[nltk_data]     C:\\Users\\Saurabh\\AppData\\Roaming\\nltk_data...\n",
      "[nltk_data]   Unzipping corpora\\stopwords.zip.\n"
     ]
    },
    {
     "data": {
      "text/plain": [
       "True"
      ]
     },
     "execution_count": 4,
     "metadata": {},
     "output_type": "execute_result"
    }
   ],
   "source": [
    "nltk.download('stopwords')\n"
   ]
  },
  {
   "cell_type": "code",
   "execution_count": 15,
   "metadata": {
    "collapsed": false
   },
   "outputs": [
    {
     "name": "stdout",
     "output_type": "stream",
     "text": [
      "\n"
     ]
    }
   ],
   "source": [
    "stopset = set(stopwords.words('english'))\n",
    "stopset.update(['lt','p','/p','br','amp','quot','field','font','normal','span','0px','rgb','style','51', \n",
    "                'spacing','text','helvetica','size','family', 'space', 'arial', 'height', 'indent', 'letter'\n",
    "                'line','none','sans','serif','transform','line','variant','weight','times', 'new','strong', 'video', 'title'\n",
    "                'white','word','letter', 'roman','0pt','16','color','12','14','21','00','01','neue','apple','class','nntp', '\\n' ])"
   ]
  },
  {
   "cell_type": "code",
   "execution_count": 7,
   "metadata": {
    "collapsed": true
   },
   "outputs": [],
   "source": [
    "vectorizer = TfidfVectorizer(stop_words=stopset,\n",
    "                                 use_idf=True, ngram_range=(1, 3))\n",
    "X = vectorizer.fit_transform(corpus)"
   ]
  },
  {
   "cell_type": "code",
   "execution_count": 8,
   "metadata": {
    "collapsed": false
   },
   "outputs": [
    {
     "name": "stdout",
     "output_type": "stream",
     "text": [
      "  (0, 51440)\t0.0739614450823\n",
      "  (0, 187350)\t0.0739614450823\n",
      "  (0, 28938)\t0.0739614450823\n",
      "  (0, 145078)\t0.0739614450823\n",
      "  (0, 64046)\t0.0739614450823\n",
      "  (0, 77593)\t0.0739614450823\n",
      "  (0, 132360)\t0.0739614450823\n",
      "  (0, 102622)\t0.0739614450823\n",
      "  (0, 66435)\t0.0739614450823\n",
      "  (0, 113709)\t0.0739614450823\n",
      "  (0, 161833)\t0.0739614450823\n",
      "  (0, 179404)\t0.0739614450823\n",
      "  (0, 118817)\t0.0739614450823\n",
      "  (0, 64186)\t0.0739614450823\n",
      "  (0, 103114)\t0.0739614450823\n",
      "  (0, 94983)\t0.0739614450823\n",
      "  (0, 132275)\t0.0739614450823\n",
      "  (0, 142236)\t0.0739614450823\n",
      "  (0, 97593)\t0.0739614450823\n",
      "  (0, 114349)\t0.0739614450823\n",
      "  (0, 164204)\t0.0739614450823\n",
      "  (0, 59266)\t0.0739614450823\n",
      "  (0, 51480)\t0.0739614450823\n",
      "  (0, 35715)\t0.0739614450823\n",
      "  (0, 64172)\t0.0739614450823\n",
      "  :\t:\n",
      "  (0, 183903)\t0.015655015889\n",
      "  (0, 142472)\t0.0555802309707\n",
      "  (0, 121486)\t0.111160461941\n",
      "  (0, 37507)\t0.0996785439776\n",
      "  (0, 40681)\t0.105257944488\n",
      "  (0, 16583)\t0.0739614450823\n",
      "  (0, 94387)\t0.111160461941\n",
      "  (0, 25763)\t0.0161922460089\n",
      "  (0, 100274)\t0.0103208000105\n",
      "  (0, 162422)\t0.0611096618209\n",
      "  (0, 48162)\t0.0390694082984\n",
      "  (0, 173848)\t0.039417195873\n",
      "  (0, 113507)\t0.0611096618209\n",
      "  (0, 173884)\t0.0180626374482\n",
      "  (0, 157538)\t0.0374880148692\n",
      "  (0, 29460)\t0.0308265507854\n",
      "  (0, 120873)\t0.0103415667199\n",
      "  (0, 67979)\t0.1253821105\n",
      "  (0, 51362)\t0.161996512624\n",
      "  (0, 160348)\t0.0102587509246\n",
      "  (0, 59765)\t0.0238944824554\n",
      "  (0, 38749)\t0.0508660032618\n",
      "  (0, 38759)\t0.0508660032618\n",
      "  (0, 98618)\t0.0498392719888\n",
      "  (0, 184837)\t0.0739614450823\n"
     ]
    }
   ],
   "source": [
    "print X[0]"
   ]
  },
  {
   "cell_type": "code",
   "execution_count": 9,
   "metadata": {
    "collapsed": false
   },
   "outputs": [
    {
     "data": {
      "text/plain": [
       "(994, 188080)"
      ]
     },
     "execution_count": 9,
     "metadata": {},
     "output_type": "execute_result"
    }
   ],
   "source": [
    "X.shape"
   ]
  },
  {
   "cell_type": "code",
   "execution_count": 11,
   "metadata": {
    "collapsed": false
   },
   "outputs": [
    {
     "data": {
      "text/plain": [
       "TruncatedSVD(algorithm='randomized', n_components=30, n_iter=100,\n",
       "       random_state=None, tol=0.0)"
      ]
     },
     "execution_count": 11,
     "metadata": {},
     "output_type": "execute_result"
    }
   ],
   "source": [
    "lsa = TruncatedSVD(n_components=30, n_iter=100)\n",
    "lsa.fit(X)"
   ]
  },
  {
   "cell_type": "code",
   "execution_count": 12,
   "metadata": {
    "collapsed": false
   },
   "outputs": [
    {
     "data": {
      "text/plain": [
       "array([ 0.0161592 ,  0.00506691,  0.0007867 , ...,  0.0010347 ,\n",
       "        0.0010347 ,  0.0010347 ])"
      ]
     },
     "execution_count": 12,
     "metadata": {},
     "output_type": "execute_result"
    }
   ],
   "source": [
    "lsa.components_[0]"
   ]
  },
  {
   "cell_type": "code",
   "execution_count": 13,
   "metadata": {
    "collapsed": false
   },
   "outputs": [
    {
     "name": "stdout",
     "output_type": "stream",
     "text": [
      "2.7.12 |Anaconda 4.1.1 (32-bit)| (default, Jun 29 2016, 11:42:13) [MSC v.1500 32 bit (Intel)]\n"
     ]
    }
   ],
   "source": [
    "import sys\n",
    "print (sys.version)"
   ]
  },
  {
   "cell_type": "code",
   "execution_count": 16,
   "metadata": {
    "collapsed": false
   },
   "outputs": [
    {
     "name": "stdout",
     "output_type": "stream",
     "text": [
      "Concept 0:\n",
      "edu\n",
      "com\n",
      "year\n",
      "writes\n",
      "team\n",
      "would\n",
      "game\n",
      "article\n",
      "cs\n",
      "baseball\n",
      " \n",
      "Concept 1:\n",
      "jewish\n",
      "00 00 american\n",
      "players\n",
      "edu\n",
      "morris\n",
      "last\n",
      "lafayette\n",
      "lafibm\n",
      "vb30\n",
      "edu vb30\n",
      " \n",
      "Concept 2:\n",
      "com\n",
      "ibm\n",
      "players\n",
      "netcom\n",
      "league\n",
      "aix\n",
      "many\n",
      "runs\n",
      "season\n",
      "games\n",
      " \n",
      "Concept 3:\n",
      "ball\n",
      "team\n",
      "com\n",
      "would\n",
      "cornell\n",
      "10\n",
      "fans\n",
      "host\n",
      "hitter\n",
      "long\n",
      " \n",
      "Concept 4:\n",
      "team\n",
      "morris\n",
      "years\n",
      "roger\n",
      "best\n",
      "player\n",
      "first\n",
      "think\n",
      "may\n",
      "players\n",
      " \n",
      "Concept 5:\n",
      "00\n",
      "pitcher\n",
      "year\n",
      "say\n",
      "university\n",
      "better\n",
      "team\n",
      "braves\n",
      "play\n",
      "00 00\n",
      " \n",
      "Concept 6:\n",
      "00\n",
      "00 00\n",
      "would\n",
      "players\n",
      "really\n",
      "posting\n",
      "00 00 00\n",
      "com\n",
      "anyone\n",
      "ca\n",
      " \n",
      "Concept 7:\n",
      "00\n",
      "baseball\n",
      "00 00\n",
      "games\n",
      "first\n",
      "sox\n",
      "mets\n",
      "00 00 chicago\n",
      "roger\n",
      "com\n",
      " \n",
      "Concept 8:\n",
      "00\n",
      "time\n",
      "clutch\n",
      "would\n",
      "baseball\n",
      "team\n",
      "games\n",
      "00 00\n",
      "way\n",
      "going\n",
      " \n",
      "Concept 9:\n",
      "00\n",
      "00 00\n",
      "year\n",
      "00 00 00\n",
      "university\n",
      "good\n",
      "cs\n",
      "morris\n",
      "think\n",
      "well\n",
      " \n",
      "Concept 10:\n",
      "two\n",
      "braves\n",
      "mets\n",
      "lines\n",
      "one\n",
      "00\n",
      "team\n",
      "00 00 chicago\n",
      "michael\n",
      "teams\n",
      " \n",
      "Concept 11:"
     ]
    },
    {
     "ename": "ValueError",
     "evalue": "I/O operation on closed file",
     "output_type": "error",
     "traceback": [
      "\u001b[1;31m---------------------------------------------------------------------------\u001b[0m",
      "\u001b[1;31mValueError\u001b[0m                                Traceback (most recent call last)",
      "\u001b[1;32m<ipython-input-16-b948b8f6f94d>\u001b[0m in \u001b[0;36m<module>\u001b[1;34m()\u001b[0m\n\u001b[0;32m      3\u001b[0m     \u001b[0mtermsInComp\u001b[0m \u001b[1;33m=\u001b[0m \u001b[0mzip\u001b[0m \u001b[1;33m(\u001b[0m\u001b[0mterms\u001b[0m\u001b[1;33m,\u001b[0m\u001b[0mcomp\u001b[0m\u001b[1;33m)\u001b[0m\u001b[1;33m\u001b[0m\u001b[0m\n\u001b[0;32m      4\u001b[0m     \u001b[0msortedTerms\u001b[0m \u001b[1;33m=\u001b[0m  \u001b[0msorted\u001b[0m\u001b[1;33m(\u001b[0m\u001b[0mtermsInComp\u001b[0m\u001b[1;33m,\u001b[0m \u001b[0mkey\u001b[0m\u001b[1;33m=\u001b[0m\u001b[1;32mlambda\u001b[0m \u001b[0mx\u001b[0m\u001b[1;33m:\u001b[0m \u001b[0mx\u001b[0m\u001b[1;33m[\u001b[0m\u001b[1;36m1\u001b[0m\u001b[1;33m]\u001b[0m\u001b[1;33m,\u001b[0m \u001b[0mreverse\u001b[0m\u001b[1;33m=\u001b[0m\u001b[0mTrue\u001b[0m\u001b[1;33m)\u001b[0m \u001b[1;33m[\u001b[0m\u001b[1;33m:\u001b[0m\u001b[1;36m10\u001b[0m\u001b[1;33m]\u001b[0m\u001b[1;33m\u001b[0m\u001b[0m\n\u001b[1;32m----> 5\u001b[1;33m     \u001b[1;32mprint\u001b[0m \u001b[1;34m\"Concept %d:\"\u001b[0m \u001b[1;33m%\u001b[0m \u001b[0mi\u001b[0m\u001b[1;33m\u001b[0m\u001b[0m\n\u001b[0m\u001b[0;32m      6\u001b[0m     \u001b[1;32mfor\u001b[0m \u001b[0mterm\u001b[0m \u001b[1;32min\u001b[0m \u001b[0msortedTerms\u001b[0m\u001b[1;33m:\u001b[0m\u001b[1;33m\u001b[0m\u001b[0m\n\u001b[0;32m      7\u001b[0m         \u001b[1;32mprint\u001b[0m \u001b[0mterm\u001b[0m\u001b[1;33m[\u001b[0m\u001b[1;36m0\u001b[0m\u001b[1;33m]\u001b[0m\u001b[1;33m\u001b[0m\u001b[0m\n",
      "\u001b[1;32mC:\\Anaconda2\\lib\\site-packages\\ipykernel\\iostream.pyc\u001b[0m in \u001b[0;36mwrite\u001b[1;34m(self, string)\u001b[0m\n\u001b[0;32m    315\u001b[0m \u001b[1;33m\u001b[0m\u001b[0m\n\u001b[0;32m    316\u001b[0m             \u001b[0mis_child\u001b[0m \u001b[1;33m=\u001b[0m \u001b[1;33m(\u001b[0m\u001b[1;32mnot\u001b[0m \u001b[0mself\u001b[0m\u001b[1;33m.\u001b[0m\u001b[0m_is_master_process\u001b[0m\u001b[1;33m(\u001b[0m\u001b[1;33m)\u001b[0m\u001b[1;33m)\u001b[0m\u001b[1;33m\u001b[0m\u001b[0m\n\u001b[1;32m--> 317\u001b[1;33m             \u001b[0mself\u001b[0m\u001b[1;33m.\u001b[0m\u001b[0m_buffer\u001b[0m\u001b[1;33m.\u001b[0m\u001b[0mwrite\u001b[0m\u001b[1;33m(\u001b[0m\u001b[0mstring\u001b[0m\u001b[1;33m)\u001b[0m\u001b[1;33m\u001b[0m\u001b[0m\n\u001b[0m\u001b[0;32m    318\u001b[0m             \u001b[1;32mif\u001b[0m \u001b[0mis_child\u001b[0m\u001b[1;33m:\u001b[0m\u001b[1;33m\u001b[0m\u001b[0m\n\u001b[0;32m    319\u001b[0m                 \u001b[1;31m# newlines imply flush in subprocesses\u001b[0m\u001b[1;33m\u001b[0m\u001b[1;33m\u001b[0m\u001b[0m\n",
      "\u001b[1;31mValueError\u001b[0m: I/O operation on closed file"
     ]
    }
   ],
   "source": [
    "terms = vectorizer.get_feature_names()\n",
    "for i, comp in enumerate(lsa.components_): \n",
    "    termsInComp = zip (terms,comp)\n",
    "    sortedTerms =  sorted(termsInComp, key=lambda x: x[1], reverse=True) [:10]\n",
    "    print \"Concept %d:\" % i\n",
    "    for term in sortedTerms:\n",
    "        print term[0]\n",
    "    print \" \""
   ]
  },
  {
   "cell_type": "code",
   "execution_count": null,
   "metadata": {
    "collapsed": true
   },
   "outputs": [],
   "source": []
  }
 ],
 "metadata": {
  "anaconda-cloud": {},
  "kernelspec": {
   "display_name": "Python [Root]",
   "language": "python",
   "name": "Python [Root]"
  },
  "language_info": {
   "codemirror_mode": {
    "name": "ipython",
    "version": 2
   },
   "file_extension": ".py",
   "mimetype": "text/x-python",
   "name": "python",
   "nbconvert_exporter": "python",
   "pygments_lexer": "ipython2",
   "version": "2.7.12"
  }
 },
 "nbformat": 4,
 "nbformat_minor": 0
}
